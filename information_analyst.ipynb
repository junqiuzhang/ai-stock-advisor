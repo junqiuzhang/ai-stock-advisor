{
 "cells": [
  {
   "cell_type": "markdown",
   "metadata": {},
   "source": [
    "# 资讯分析师"
   ]
  },
  {
   "cell_type": "markdown",
   "metadata": {},
   "source": [
    "## 准备工作"
   ]
  },
  {
   "cell_type": "markdown",
   "metadata": {},
   "source": [
    "pip安装 `akshare` 和 `langchain` 等必需的库："
   ]
  },
  {
   "cell_type": "code",
   "execution_count": 1,
   "metadata": {},
   "outputs": [
    {
     "name": "stdout",
     "output_type": "stream",
     "text": [
      "Note: you may need to restart the kernel to use updated packages.\n"
     ]
    }
   ],
   "source": [
    "%pip install --upgrade --quiet pandas akshare lark langchain-core langchain-openai langchain-community langchain-chroma langgraph"
   ]
  },
  {
   "cell_type": "markdown",
   "metadata": {},
   "source": [
    "获取股票主营介绍数据："
   ]
  },
  {
   "cell_type": "code",
   "execution_count": null,
   "metadata": {},
   "outputs": [],
   "source": [
    "import pandas as pd\n",
    "import akshare as ak\n",
    "\n",
    "# 沪深京 A 股实时行情数据\n",
    "stock_zh_a_spot_em_df = ak.stock_zh_a_spot_em()\n",
    "# 股票对应的主营介绍数据\n",
    "stock_zyjs_ths_dfs = []\n",
    "for stock_code, stock_name in zip(stock_zh_a_spot_em_df['代码'], stock_zh_a_spot_em_df['名称']):\n",
    "    try:\n",
    "        stock_zyjs_ths_df = ak.stock_zyjs_ths(stock_code)\n",
    "        stock_zyjs_ths_df['股票名称'] = stock_name\n",
    "        stock_zyjs_ths_dfs.append(stock_zyjs_ths_df)\n",
    "    except Exception as e:\n",
    "        print(f'Error processing stock {stock_code}: {e}')\n",
    "        continue\n",
    "stock_zyjs_ths_df = pd.concat(stock_zyjs_ths_dfs)\n",
    "stock_zyjs_ths_df.to_csv('data/stock_zyjs_ths.csv', index=False, quoting=1)"
   ]
  },
  {
   "cell_type": "markdown",
   "metadata": {},
   "source": [
    "加载股票主营介绍数据："
   ]
  },
  {
   "cell_type": "code",
   "execution_count": 5,
   "metadata": {},
   "outputs": [
    {
     "name": "stdout",
     "output_type": "stream",
     "text": [
      "Loaded 5662 documents\n"
     ]
    }
   ],
   "source": [
    "from langchain_community.document_loaders.csv_loader import CSVLoader\n",
    "\n",
    "loader = CSVLoader(\n",
    "    file_path='data/stock_zyjs_ths.csv',\n",
    "    csv_args={\n",
    "        'delimiter': ',',\n",
    "        'quotechar': '\"',\n",
    "    },\n",
    "    metadata_columns=['股票代码', '股票名称']\n",
    ")\n",
    "\n",
    "documents = loader.load()\n",
    "print(f'Loaded {len(documents)} documents')"
   ]
  },
  {
   "cell_type": "markdown",
   "metadata": {},
   "source": [
    "embedding股票主营介绍数据并存储到向量数据库："
   ]
  },
  {
   "cell_type": "code",
   "execution_count": null,
   "metadata": {},
   "outputs": [],
   "source": [
    "import os\n",
    "import pandas as pd\n",
    "\n",
    "from langchain_openai import AzureOpenAIEmbeddings\n",
    "from langchain_chroma import Chroma\n",
    "\n",
    "embeddings = AzureOpenAIEmbeddings(\n",
    "    azure_endpoint=os.environ['AZURE_OPENAI_ENDPOINT'],\n",
    "    azure_deployment=os.environ['AZURE_OPENAI_EMBEDDING_DEPLOYMENT_NAME'],\n",
    "    openai_api_version=os.environ['AZURE_OPENAI_EMBEDDING_API_VERSION'],\n",
    ")\n",
    "\n",
    "vector_store = Chroma(\n",
    "    collection_name='stock_zyjs_ths',\n",
    "    embedding_function=embeddings,\n",
    "    persist_directory='data/verctor_store.db',\n",
    ")\n",
    "\n",
    "ids = pd.read_csv('data/stock_zyjs_ths.csv')['股票代码'].astype(str).tolist()\n",
    "\n",
    "for i in range(0, len(ids), 100):\n",
    "    print(f'Adding documents {i} to {i+100}')\n",
    "    partial_ids = ids[i:i+100]\n",
    "    partial_documents = documents[i:i+100]\n",
    "    # vector_store.add_documents(documents=partial_documents, ids=partial_ids)\n",
    "    vector_store.update_documents(documents=partial_documents, ids=partial_ids)"
   ]
  },
  {
   "cell_type": "markdown",
   "metadata": {},
   "source": [
    "## 资讯分析"
   ]
  },
  {
   "cell_type": "markdown",
   "metadata": {},
   "source": [
    "初始化LLM模型和向量数据库："
   ]
  },
  {
   "cell_type": "code",
   "execution_count": 11,
   "metadata": {},
   "outputs": [],
   "source": [
    "import os\n",
    "\n",
    "from langchain_openai import AzureChatOpenAI, AzureOpenAIEmbeddings\n",
    "from langchain_chroma import Chroma\n",
    "\n",
    "llm = AzureChatOpenAI(\n",
    "    azure_endpoint=os.environ['AZURE_OPENAI_ENDPOINT'],\n",
    "    azure_deployment=os.environ['AZURE_OPENAI_CHAT_DEPLOYMENT_NAME'],\n",
    "    openai_api_version=os.environ['AZURE_OPENAI_CHAT_API_VERSION'],\n",
    ")\n",
    "\n",
    "embeddings = AzureOpenAIEmbeddings(\n",
    "    azure_endpoint=os.environ['AZURE_OPENAI_ENDPOINT'],\n",
    "    azure_deployment=os.environ['AZURE_OPENAI_EMBEDDING_DEPLOYMENT_NAME'],\n",
    "    openai_api_version=os.environ['AZURE_OPENAI_EMBEDDING_API_VERSION'],\n",
    ")\n",
    "\n",
    "vector_store = Chroma(\n",
    "    collection_name='stock_zyjs_ths',\n",
    "    embedding_function=embeddings,\n",
    "    persist_directory='data/verctor_store.db',\n",
    ")"
   ]
  },
  {
   "cell_type": "markdown",
   "metadata": {},
   "source": [
    "定义状态："
   ]
  },
  {
   "cell_type": "code",
   "execution_count": 22,
   "metadata": {},
   "outputs": [],
   "source": [
    "from typing import Annotated\n",
    "from typing_extensions import TypedDict\n",
    "from langgraph.graph.message import add_messages\n",
    "\n",
    "class State(TypedDict):\n",
    "    news: str\n",
    "    messages: Annotated[list, add_messages]\n",
    "    report: str"
   ]
  },
  {
   "cell_type": "markdown",
   "metadata": {},
   "source": [
    "定义获取财经新闻工具："
   ]
  },
  {
   "cell_type": "code",
   "execution_count": null,
   "metadata": {},
   "outputs": [],
   "source": [
    "import akshare as ak\n",
    "\n",
    "def get_financial_news(state: State):\n",
    "    \"\"\"Call the AkShare API to get the latest financial news.\"\"\"\n",
    "    stock_info_global_sina_df = ak.stock_info_global_sina()\n",
    "    first_stock_info = stock_info_global_sina_df.iloc[0]['内容']\n",
    "    return {\n",
    "        'news': first_stock_info\n",
    "    }\n"
   ]
  },
  {
   "cell_type": "markdown",
   "metadata": {},
   "source": [
    "定义大模型调用节点："
   ]
  },
  {
   "cell_type": "code",
   "execution_count": 23,
   "metadata": {},
   "outputs": [],
   "source": [
    "def call_llm(state: State):\n",
    "    messages = state['messages']\n",
    "    response = llm.invoke(messages)\n",
    "    return {\"messages\": [response]}"
   ]
  },
  {
   "cell_type": "markdown",
   "metadata": {},
   "source": [
    "定义新闻分类节点:"
   ]
  },
  {
   "cell_type": "code",
   "execution_count": 30,
   "metadata": {},
   "outputs": [],
   "source": [
    "from langchain_core.prompts import PromptTemplate\n",
    "\n",
    "news_category_prompt_template = PromptTemplate.from_template('''你是一个财经新闻分类助手。请根据以下财经新闻的内容，将其分类到适当的类别中。可用的类别包括：\n",
    "1. 公司财报\n",
    "2. 并购与收购\n",
    "3. 行业动态\n",
    "4. 政策法规\n",
    "5. 市场趋势\n",
    "6. 投资策略\n",
    "7. 经济指标\n",
    "如果无法确定分类，请输出“无法确定”。\n",
    "以下是需要分类的财经新闻：\n",
    "{news}\n",
    "''')\n",
    "\n",
    "def get_news_category_prompt(state: State):\n",
    "    prompt = news_category_prompt_template.invoke(state)\n",
    "    return {\n",
    "        'messages': prompt.to_messages()\n",
    "    }"
   ]
  },
  {
   "cell_type": "markdown",
   "metadata": {},
   "source": [
    "定义检索器节点："
   ]
  },
  {
   "cell_type": "code",
   "execution_count": null,
   "metadata": {},
   "outputs": [],
   "source": [
    "from langchain_openai import AzureChatOpenAI\n",
    "from langchain.chains.query_constructor.schema import AttributeInfo\n",
    "from langchain.retrievers.self_query.base import SelfQueryRetriever\n",
    "\n",
    "metadata_field_info = [\n",
    "    AttributeInfo(\n",
    "        name='股票代码',\n",
    "        description='股票代码',\n",
    "        type='string',\n",
    "    ),\n",
    "    AttributeInfo(\n",
    "        name='股票名称',\n",
    "        description='股票名称',\n",
    "        type='integer',\n",
    "    ),\n",
    "]\n",
    "\n",
    "document_content_description = '股票主营介绍'\n",
    "\n",
    "retriever = SelfQueryRetriever.from_llm(\n",
    "    llm,\n",
    "    vector_store,\n",
    "    document_content_description,\n",
    "    metadata_field_info,\n",
    ")\n"
   ]
  },
  {
   "cell_type": "markdown",
   "metadata": {},
   "source": [
    "定义输出报告节点："
   ]
  },
  {
   "cell_type": "code",
   "execution_count": 43,
   "metadata": {},
   "outputs": [],
   "source": [
    "def get_report(state: State):\n",
    "    news = state['news']\n",
    "    messages = state['messages']\n",
    "    report = f'最新财经新闻：{news}\\n分类结果：{messages[-1].content}'\n",
    "    return {\n",
    "        'report': report\n",
    "    }"
   ]
  },
  {
   "cell_type": "markdown",
   "metadata": {},
   "source": [
    "定义并编译图："
   ]
  },
  {
   "cell_type": "code",
   "execution_count": null,
   "metadata": {},
   "outputs": [
    {
     "data": {
      "image/png": "[encoded data removed]",
      "text/plain": [
       "<IPython.core.display.Image object>"
      ]
     },
     "metadata": {},
     "output_type": "display_data"
    }
   ],
   "source": [
    "from langchain_core.globals import set_llm_cache\n",
    "from langchain_core.caches import InMemoryCache\n",
    "from langgraph.checkpoint.memory import MemorySaver\n",
    "from langgraph.graph import END, START, StateGraph\n",
    "from IPython.display import Image, display\n",
    "\n",
    "set_llm_cache(InMemoryCache())\n",
    "\n",
    "workflow = StateGraph(State)\n",
    "workflow.add_node('get_financial_news_node', get_financial_news)\n",
    "workflow.add_node('get_news_category_prompt_node', get_news_category_prompt)\n",
    "workflow.add_node('call_llm_node', call_llm)\n",
    "workflow.add_node('get_report_node', get_report)\n",
    "\n",
    "workflow.add_edge(START, 'get_financial_news_node')\n",
    "workflow.add_edge('get_financial_news_node', 'get_news_category_prompt_node')\n",
    "workflow.add_edge('get_news_category_prompt_node', 'call_llm_node')\n",
    "workflow.add_edge('call_llm_node', 'get_report_node')\n",
    "workflow.add_edge('get_report_node', END)\n",
    "\n",
    "checkpointer = MemorySaver()\n",
    "\n",
    "app = workflow.compile(checkpointer=checkpointer)\n",
    "\n",
    "display(Image(app.get_graph().draw_mermaid_png()))\n"
   ]
  },
  {
   "cell_type": "markdown",
   "metadata": {},
   "source": [
    "执行图："
   ]
  },
  {
   "cell_type": "code",
   "execution_count": 45,
   "metadata": {},
   "outputs": [
    {
     "name": "stdout",
     "output_type": "stream",
     "text": [
      "最新财经新闻：法国外交部发言人：黎巴嫩新任总统为黎巴嫩开启新篇章，带来希望。呼吁所有黎巴嫩政治领导人和当局致力于国家的复苏，选举结果之后必须紧接着组建一个强有力的政府。新政府必须实施必要的改革，以促进黎巴嫩的经济复苏、稳定、安全和主权。\n",
      "分类结果：无法确定\n"
     ]
    }
   ],
   "source": [
    "final_state = app.invoke(\n",
    "    {'news': None, 'messages': [], 'report': None},\n",
    "    config={'configurable': {'thread_id': 'information_analysis'}},\n",
    ")\n",
    "\n",
    "print(final_state['report'])"
   ]
  }
 ],
 "metadata": {
  "kernelspec": {
   "display_name": "ai-stock-advisor",
   "language": "python",
   "name": "python3"
  },
  "language_info": {
   "codemirror_mode": {
    "name": "ipython",
    "version": 3
   },
   "file_extension": ".py",
   "mimetype": "text/x-python",
   "name": "python",
   "nbconvert_exporter": "python",
   "pygments_lexer": "ipython3",
   "version": "3.11.11"
  }
 },
 "nbformat": 4,
 "nbformat_minor": 2
}

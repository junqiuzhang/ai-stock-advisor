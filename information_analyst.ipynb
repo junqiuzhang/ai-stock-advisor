{
 "cells": [
  {
   "cell_type": "markdown",
   "metadata": {},
   "source": [
    "# 资讯分析师"
   ]
  },
  {
   "cell_type": "markdown",
   "metadata": {},
   "source": [
    "## 准备工作"
   ]
  },
  {
   "cell_type": "markdown",
   "metadata": {},
   "source": [
    "pip安装 `akshare` 和 `langchain` 等必需的库："
   ]
  },
  {
   "cell_type": "code",
   "execution_count": 1,
   "metadata": {},
   "outputs": [
    {
     "name": "stdout",
     "output_type": "stream",
     "text": [
      "Note: you may need to restart the kernel to use updated packages.\n"
     ]
    }
   ],
   "source": [
    "%pip install --upgrade --quiet pandas akshare lark langchain-core langchain-openai langchain-community langchain-chroma langgraph"
   ]
  },
  {
   "cell_type": "markdown",
   "metadata": {},
   "source": [
    "获取股票主营介绍数据："
   ]
  },
  {
   "cell_type": "code",
   "execution_count": null,
   "metadata": {},
   "outputs": [],
   "source": [
    "import pandas as pd\n",
    "import akshare as ak\n",
    "\n",
    "# 沪深京 A 股实时行情数据\n",
    "stock_zh_a_spot_em_df = ak.stock_zh_a_spot_em()\n",
    "# 股票对应的主营介绍数据\n",
    "stock_zyjs_ths_dfs = []\n",
    "for stock_code, stock_name in zip(stock_zh_a_spot_em_df['代码'], stock_zh_a_spot_em_df['名称']):\n",
    "    try:\n",
    "        stock_zyjs_ths_df = ak.stock_zyjs_ths(stock_code)\n",
    "        stock_zyjs_ths_df['股票名称'] = stock_name\n",
    "        stock_zyjs_ths_dfs.append(stock_zyjs_ths_df)\n",
    "    except Exception as e:\n",
    "        print(f'Error processing stock {stock_code}: {e}')\n",
    "        continue\n",
    "stock_zyjs_ths_df = pd.concat(stock_zyjs_ths_dfs)\n",
    "stock_zyjs_ths_df.to_csv('data/stock_zyjs_ths.csv', index=False, quoting=1)"
   ]
  },
  {
   "cell_type": "markdown",
   "metadata": {},
   "source": [
    "加载股票主营介绍数据："
   ]
  },
  {
   "cell_type": "code",
   "execution_count": 5,
   "metadata": {},
   "outputs": [
    {
     "name": "stdout",
     "output_type": "stream",
     "text": [
      "Loaded 5662 documents\n"
     ]
    }
   ],
   "source": [
    "from langchain_community.document_loaders.csv_loader import CSVLoader\n",
    "\n",
    "loader = CSVLoader(\n",
    "    file_path='data/stock_zyjs_ths.csv',\n",
    "    csv_args={\n",
    "        'delimiter': ',',\n",
    "        'quotechar': '\"',\n",
    "    },\n",
    "    metadata_columns=['股票代码', '股票名称']\n",
    ")\n",
    "\n",
    "documents = loader.load()\n",
    "print(f'Loaded {len(documents)} documents')"
   ]
  },
  {
   "cell_type": "markdown",
   "metadata": {},
   "source": [
    "embedding股票主营介绍数据并存储到向量数据库："
   ]
  },
  {
   "cell_type": "code",
   "execution_count": null,
   "metadata": {},
   "outputs": [],
   "source": [
    "import os\n",
    "import pandas as pd\n",
    "\n",
    "from langchain_openai import AzureOpenAIEmbeddings\n",
    "from langchain_chroma import Chroma\n",
    "\n",
    "embeddings = AzureOpenAIEmbeddings(\n",
    "    azure_endpoint=os.environ['AZURE_OPENAI_ENDPOINT'],\n",
    "    azure_deployment=os.environ['AZURE_OPENAI_EMBEDDING_DEPLOYMENT_NAME'],\n",
    "    openai_api_version=os.environ['AZURE_OPENAI_EMBEDDING_API_VERSION'],\n",
    ")\n",
    "\n",
    "vector_store = Chroma(\n",
    "    collection_name='stock_zyjs_ths',\n",
    "    embedding_function=embeddings,\n",
    "    persist_directory='data/verctor_store.db',\n",
    ")\n",
    "\n",
    "ids = pd.read_csv('data/stock_zyjs_ths.csv')['股票代码'].astype(str).tolist()\n",
    "\n",
    "for i in range(0, len(ids), 100):\n",
    "    print(f'Adding documents {i} to {i+100}')\n",
    "    partial_ids = ids[i:i+100]\n",
    "    partial_documents = documents[i:i+100]\n",
    "    # vector_store.add_documents(documents=partial_documents, ids=partial_ids)\n",
    "    vector_store.update_documents(documents=partial_documents, ids=partial_ids)"
   ]
  },
  {
   "cell_type": "markdown",
   "metadata": {},
   "source": [
    "## 资讯分析"
   ]
  },
  {
   "cell_type": "markdown",
   "metadata": {},
   "source": [
    "初始化LLM模型和向量数据库："
   ]
  },
  {
   "cell_type": "code",
   "execution_count": 31,
   "metadata": {},
   "outputs": [],
   "source": [
    "import os\n",
    "\n",
    "from langchain_openai import AzureChatOpenAI, AzureOpenAIEmbeddings\n",
    "from langchain_openai.chat_models.base import BaseChatOpenAI\n",
    "from langchain_chroma import Chroma\n",
    "\n",
    "llm = AzureChatOpenAI(\n",
    "    azure_endpoint=os.environ['AZURE_OPENAI_ENDPOINT'],\n",
    "    azure_deployment=os.environ['AZURE_OPENAI_DEPLOYMENT_NAME'],\n",
    "    openai_api_version=os.environ['AZURE_OPENAI_API_VERSION'],\n",
    "    temperature=1\n",
    ")\n",
    "\n",
    "# llm = BaseChatOpenAI(\n",
    "#     model=os.environ['DEEPSEEK_MODEL_NAME'], \n",
    "#     openai_api_base=os.environ['DEEPSEEK_ENDPOINT'],\n",
    "#     openai_api_key=os.environ['DEEPSEEK_API_KEY'], \n",
    "#     max_tokens=1024\n",
    "# )\n",
    "\n",
    "\n",
    "embeddings = AzureOpenAIEmbeddings(\n",
    "    azure_endpoint=os.environ['AZURE_OPENAI_ENDPOINT'],\n",
    "    azure_deployment=os.environ['AZURE_OPENAI_EMBEDDING_DEPLOYMENT_NAME'],\n",
    "    openai_api_version=os.environ['AZURE_OPENAI_EMBEDDING_API_VERSION'],\n",
    ")\n",
    "\n",
    "vector_store = Chroma(\n",
    "    collection_name='stock_zyjs_ths',\n",
    "    embedding_function=embeddings,\n",
    "    persist_directory='data/verctor_store.db',\n",
    ")"
   ]
  },
  {
   "cell_type": "markdown",
   "metadata": {},
   "source": [
    "定义状态："
   ]
  },
  {
   "cell_type": "code",
   "execution_count": 32,
   "metadata": {},
   "outputs": [],
   "source": [
    "from typing import Annotated\n",
    "from typing_extensions import TypedDict\n",
    "from langchain_core.documents import Document\n",
    "from langgraph.graph.message import add_messages\n",
    "\n",
    "class State(TypedDict):\n",
    "    news: str\n",
    "    category: str\n",
    "    messages: Annotated[list, add_messages]\n",
    "    stocks: list[Document]\n",
    "    report: str"
   ]
  },
  {
   "cell_type": "markdown",
   "metadata": {},
   "source": [
    "定义获取财经新闻工具："
   ]
  },
  {
   "cell_type": "code",
   "execution_count": 33,
   "metadata": {},
   "outputs": [],
   "source": [
    "import akshare as ak\n",
    "\n",
    "def get_financial_news(state: State):\n",
    "    \"\"\"Call the AkShare API to get the latest financial news.\"\"\"\n",
    "    stock_info_global_sina_df = ak.stock_info_global_sina()\n",
    "    first_stock_info = stock_info_global_sina_df.iloc[0]['内容']\n",
    "    return {\n",
    "        'news': first_stock_info\n",
    "    }\n"
   ]
  },
  {
   "cell_type": "markdown",
   "metadata": {},
   "source": [
    "定义新闻分类节点:"
   ]
  },
  {
   "cell_type": "code",
   "execution_count": 34,
   "metadata": {},
   "outputs": [],
   "source": [
    "from langchain_core.prompts import PromptTemplate\n",
    "\n",
    "news_category_prompt_template = PromptTemplate.from_template('''你是一个财经新闻分类助手。\n",
    "请根据以下财经新闻的内容，将其分类到适当的类别中。可用的类别包括：\n",
    "1. 公司新闻\n",
    "2. 行业动态\n",
    "3. 市场趋势\n",
    "4. 经济指标\n",
    "5. 政策法规\n",
    "如果无法确定分类，请输出“无法确定”。\n",
    "以下是需要分类的财经新闻：\n",
    "{news}\n",
    "''')\n",
    "\n",
    "get_news_category_chain = news_category_prompt_template | llm\n",
    "def get_news_category(state: State):\n",
    "    message = get_news_category_chain.invoke(state)\n",
    "    return {\n",
    "        'category': message.content\n",
    "    }"
   ]
  },
  {
   "cell_type": "markdown",
   "metadata": {},
   "source": [
    "定义公司新闻分析节点："
   ]
  },
  {
   "cell_type": "code",
   "execution_count": 35,
   "metadata": {},
   "outputs": [],
   "source": [
    "from langchain_core.prompts import PromptTemplate\n",
    "\n",
    "company_news_analysis_prompt_template = PromptTemplate.from_template('''你是一个公司新闻分析助手。\n",
    "请根据以下公司新闻的内容，分析其对公司的影响。从以下几个方面进行分析：\n",
    "1. 公司业务\n",
    "2. 公司财务\n",
    "3. 公司管理\n",
    "4. 公司风险\n",
    "5. 公司前景\n",
    "以下是需要分析的公司新闻：\n",
    "{news}\n",
    "''')\n",
    "\n",
    "get_company_news_analysis_chain = company_news_analysis_prompt_template | llm\n",
    "def get_company_news_analysis(state: State):\n",
    "    message = get_company_news_analysis_chain.invoke(state)\n",
    "    return {\n",
    "        'messages': [message]\n",
    "    }"
   ]
  },
  {
   "cell_type": "markdown",
   "metadata": {},
   "source": [
    "定义行业动态新闻分析节点："
   ]
  },
  {
   "cell_type": "code",
   "execution_count": 36,
   "metadata": {},
   "outputs": [],
   "source": [
    "from langchain_core.prompts import PromptTemplate\n",
    "\n",
    "industry_news_analysis_prompt_template = PromptTemplate.from_template('''你是一个行业新闻分析助手。\n",
    "请根据以下行业新闻的内容，分析其对行业的影响。从以下几个方面进行分析：\n",
    "1. 行业发展\n",
    "2. 行业竞争\n",
    "3. 行业政策\n",
    "4. 行业前景\n",
    "以下是需要分析的行业新闻：\n",
    "{news}\n",
    "''')\n",
    "\n",
    "get_industry_news_analysis_chain = industry_news_analysis_prompt_template | llm\n",
    "def get_industry_news_analysis(state: State):\n",
    "    message = get_industry_news_analysis_chain.invoke(state)\n",
    "    return {\n",
    "        'messages': [message]\n",
    "    }"
   ]
  },
  {
   "cell_type": "markdown",
   "metadata": {},
   "source": [
    "定义市场趋势新闻分析节点："
   ]
  },
  {
   "cell_type": "code",
   "execution_count": 37,
   "metadata": {},
   "outputs": [],
   "source": [
    "from langchain_core.prompts import PromptTemplate\n",
    "\n",
    "market_news_analysis_prompt_template = PromptTemplate.from_template('''你是一个市场新闻分析助手。\n",
    "请根据以下市场新闻的内容，分析其对市场的影响。从以下几个方面进行分析：\n",
    "1. 市场趋势\n",
    "2. 市场风险\n",
    "3. 市场前景\n",
    "以下是需要分析的市场新闻：\n",
    "{news}\n",
    "''')\n",
    "\n",
    "get_market_news_analysis_chain = market_news_analysis_prompt_template | llm\n",
    "def get_market_news_analysis(state: State):\n",
    "    message = get_market_news_analysis_chain.invoke(state)\n",
    "    return {\n",
    "        'messages': [message]\n",
    "    }"
   ]
  },
  {
   "cell_type": "markdown",
   "metadata": {},
   "source": [
    "定义经济指标新闻分析节点："
   ]
  },
  {
   "cell_type": "code",
   "execution_count": 38,
   "metadata": {},
   "outputs": [],
   "source": [
    "from langchain_core.prompts import PromptTemplate\n",
    "\n",
    "metrics_news_analysis_prompt_template = PromptTemplate.from_template('''你是一个经济指标分析助手。\n",
    "请根据以下经济指标的内容，分析其对经济的影响。从以下几个方面进行分析：\n",
    "1. 经济增长\n",
    "2. 通货膨胀\n",
    "3. 就业情况\n",
    "4. 利率水平\n",
    "5. 汇率变动\n",
    "以下是需要分析的经济指标新闻：\n",
    "{news}\n",
    "''')\n",
    "\n",
    "get_metrics_news_analysis_chain = metrics_news_analysis_prompt_template | llm\n",
    "def get_metrics_news_analysis(state: State):\n",
    "    message = get_metrics_news_analysis_chain.invoke(state)\n",
    "    return {\n",
    "        'messages': [message]\n",
    "    }"
   ]
  },
  {
   "cell_type": "markdown",
   "metadata": {},
   "source": [
    "定义政策法规新闻分析节点："
   ]
  },
  {
   "cell_type": "code",
   "execution_count": 39,
   "metadata": {},
   "outputs": [],
   "source": [
    "from langchain_core.prompts import PromptTemplate\n",
    "\n",
    "policy_news_analysis_prompt_template = PromptTemplate.from_template('''你是一个政策新闻分析助手。\n",
    "请根据以下政策新闻的内容，分析其对政策的影响。从以下几个方面进行分析：\n",
    "1. 政策内容\n",
    "2. 政策目的\n",
    "3. 政策影响\n",
    "以下是需要分析的政策新闻：\n",
    "{news}\n",
    "''')\n",
    "\n",
    "get_policy_news_analysis_chain = policy_news_analysis_prompt_template | llm\n",
    "def get_policy_news_analysis(state: State):\n",
    "    message = get_policy_news_analysis_chain.invoke(state)\n",
    "    return {\n",
    "        'messages': [message]\n",
    "    }"
   ]
  },
  {
   "cell_type": "markdown",
   "metadata": {},
   "source": [
    "定义无法确定分类的新闻节点："
   ]
  },
  {
   "cell_type": "code",
   "execution_count": 40,
   "metadata": {},
   "outputs": [],
   "source": [
    "from langchain_core.messages import AIMessage\n",
    "\n",
    "def get_unknown_category_analysis(state: State):\n",
    "    return {\n",
    "        'messages': [AIMessage(content='暂无分析')]\n",
    "    }"
   ]
  },
  {
   "cell_type": "markdown",
   "metadata": {},
   "source": [
    "定义分析相关股票节点："
   ]
  },
  {
   "cell_type": "code",
   "execution_count": 41,
   "metadata": {},
   "outputs": [],
   "source": [
    "from langchain_core.prompts import PromptTemplate\n",
    "\n",
    "stock_analysis_prompt_template = PromptTemplate.from_template('''你是一个专业的股票分析师。\n",
    "请根据以下新闻内容，以及其他分析师对新闻的分析，分析可能受到影响的股票类型并给出原因\n",
    "以下是新闻内容：\n",
    "{news}\n",
    "以下是其他分析师的分析：\n",
    "{analysis}\n",
    "''')\n",
    "\n",
    "get_stock_analysis_chain = stock_analysis_prompt_template | llm\n",
    "def get_stock_analysis(state: State):\n",
    "    message = get_stock_analysis_chain.invoke({\n",
    "        'news': state['news'],\n",
    "        'analysis': state['messages'][-1].content\n",
    "    })\n",
    "    return {\n",
    "        'messages': [message]\n",
    "    }"
   ]
  },
  {
   "cell_type": "markdown",
   "metadata": {},
   "source": [
    "定义检索器节点："
   ]
  },
  {
   "cell_type": "code",
   "execution_count": 42,
   "metadata": {},
   "outputs": [],
   "source": [
    "from langchain.chains.query_constructor.schema import AttributeInfo\n",
    "from langchain.retrievers.self_query.base import SelfQueryRetriever\n",
    "\n",
    "metadata_field_info = [\n",
    "    AttributeInfo(\n",
    "        name='股票代码',\n",
    "        description='股票代码',\n",
    "        type='string',\n",
    "    ),\n",
    "    AttributeInfo(\n",
    "        name='股票名称',\n",
    "        description='股票名称',\n",
    "        type='integer',\n",
    "    ),\n",
    "]\n",
    "\n",
    "document_content_description = '股票主营介绍'\n",
    "\n",
    "retriever = SelfQueryRetriever.from_llm(\n",
    "    llm,\n",
    "    vector_store,\n",
    "    document_content_description,\n",
    "    metadata_field_info,\n",
    ")\n",
    "\n",
    "def search_stocks(state: State):\n",
    "    messages = state['messages']\n",
    "    stocks = retriever.invoke(messages[-1].content)\n",
    "    return {\n",
    "        'stocks': stocks\n",
    "    }"
   ]
  },
  {
   "cell_type": "markdown",
   "metadata": {},
   "source": [
    "定义输出报告节点："
   ]
  },
  {
   "cell_type": "code",
   "execution_count": 43,
   "metadata": {},
   "outputs": [],
   "source": [
    "def get_report(state: State):\n",
    "    news = state['news']\n",
    "    messages = state['messages']\n",
    "    report = f'''最新财经新闻：{news}\n",
    "新闻类别：{state['category']}\n",
    "新闻分析报告：{messages[-2].content}\n",
    "股票分析报告：{messages[-1].content}\n",
    "股票列表：{', '.join([stock.metadata['股票名称'] for stock in state['stocks']])}\n",
    "'''\n",
    "    return {\n",
    "        'report': report\n",
    "    }"
   ]
  },
  {
   "cell_type": "markdown",
   "metadata": {},
   "source": [
    "定义并编译图："
   ]
  },
  {
   "cell_type": "code",
   "execution_count": 44,
   "metadata": {},
   "outputs": [
    {
     "data": {
      "image/png": "[encoded data removed]",
      "text/plain": [
       "<IPython.core.display.Image object>"
      ]
     },
     "metadata": {},
     "output_type": "display_data"
    }
   ],
   "source": [
    "from langchain_core.globals import set_llm_cache\n",
    "from langchain_core.caches import InMemoryCache\n",
    "from langgraph.checkpoint.memory import MemorySaver\n",
    "from langgraph.graph import END, START, StateGraph\n",
    "from IPython.display import Image, display\n",
    "\n",
    "set_llm_cache(InMemoryCache())\n",
    "\n",
    "workflow = StateGraph(State)\n",
    "news_category_nodes = ['get_company_news_analysis_node', 'get_industry_news_analysis_node', 'get_market_news_analysis_node', 'get_metrics_news_analysis_node', 'get_policy_news_analysis_node', 'get_unknown_category_analysis_node']\n",
    "news_category_functions = [get_company_news_analysis, get_industry_news_analysis, get_market_news_analysis, get_metrics_news_analysis, get_policy_news_analysis, get_unknown_category_analysis]\n",
    "workflow.add_node('get_financial_news_node', get_financial_news)\n",
    "workflow.add_node('get_news_category_node', get_news_category)\n",
    "for news_category_node, news_category_function in zip(news_category_nodes, news_category_functions):\n",
    "    workflow.add_node(news_category_node, news_category_function)\n",
    "workflow.add_node('get_stock_analysis_node', get_stock_analysis)\n",
    "workflow.add_node('search_stocks_node', search_stocks)\n",
    "workflow.add_node('get_report_node', get_report)\n",
    "\n",
    "def route_news_category(state: State):\n",
    "    category = state['category']\n",
    "    if '公司新闻' in category:\n",
    "        return ['get_company_news_analysis_node']\n",
    "    elif '行业动态' in category:\n",
    "        return ['get_industry_news_analysis_node']\n",
    "    elif '市场趋势' in category:\n",
    "        return ['get_market_news_analysis_node']\n",
    "    elif '经济指标' in category:\n",
    "        return ['get_metrics_news_analysis_node']\n",
    "    elif '政策法规' in category:\n",
    "        return ['get_policy_news_analysis_node']\n",
    "    else:\n",
    "        return ['get_unknown_category_analysis_node']\n",
    "\n",
    "workflow.add_edge(START, 'get_financial_news_node')\n",
    "workflow.add_edge('get_financial_news_node', 'get_news_category_node')\n",
    "workflow.add_conditional_edges('get_news_category_node', route_news_category, news_category_nodes)\n",
    "for news_category_node in news_category_nodes:\n",
    "    workflow.add_edge(news_category_node, 'get_stock_analysis_node')\n",
    "workflow.add_edge('get_stock_analysis_node', 'search_stocks_node')\n",
    "workflow.add_edge('search_stocks_node', 'get_report_node')\n",
    "workflow.add_edge('get_report_node', END)\n",
    "\n",
    "checkpointer = MemorySaver()\n",
    "\n",
    "app = workflow.compile(checkpointer=checkpointer)\n",
    "\n",
    "display(Image(app.get_graph().draw_mermaid_png()))\n"
   ]
  },
  {
   "cell_type": "markdown",
   "metadata": {},
   "source": [
    "执行图："
   ]
  },
  {
   "cell_type": "code",
   "execution_count": 45,
   "metadata": {},
   "outputs": [
    {
     "name": "stdout",
     "output_type": "stream",
     "text": [
      "最新财经新闻：【中国贸促会新闻发言人就美方宣布对中国输美产品加征10%关税发表谈话】美国东部时间2月1日，美方以芬太尼等问题为由，对中国输美产品加征10％关税。中国工商界对此深表遗憾、坚决反对。美方单边加征关税的做法严重违反世贸组织规则，将使大量美国企业和消费者为此埋单，使中美正常经贸合作受到破坏，使全球产业链供应链稳定遭受冲击。贸易战、关税战没有赢家。美方的错误做法，不利于解决自身问题，不利于中美双边关系，不利于世界经济发展。我们强烈呼吁美方立即纠正错误做法，同中方相向而行，与各国加强合作，为两国乃至全球工商界实现互利共赢营造良好国际环境，为世界经济发展注入更多稳定性和正能量。\n",
      "新闻类别：5. 政策法规\n",
      "新闻分析报告：**1. 政策内容**\n",
      "\n",
      "美国于东部时间2月1日宣布，基于芬太尼等问题，对中国输美产品加征10%的关税。这一关税措施涵盖了多种中国产品，采用单边行动的方式实施，对中国向美国的出口造成直接影响。\n",
      "\n",
      "**2. 政策目的**\n",
      "\n",
      "美国此举的主要目的是通过经济手段施压中国，解决长期以来存在的贸易不平衡、知识产权保护等问题。具体而言，针对芬太尼等议题，表明美国希望中国在相关领域加强监管和治理。此外，加征关税也是美国政府在当前国际贸易环境下，调整双边贸易关系、维护自身经济利益的一种策略手段，旨在促使中国在贸易政策和经济行为上作出让步。\n",
      "\n",
      "**3. 政策影响**\n",
      "\n",
      "**对中美双边关系的影响：**\n",
      "- **经济层面**：加征关税将直接增加中国出口到美国产品的成本，可能导致中国产品在美国市场的竞争力下降，进而影响中国相关产业的生产和就业。同时，美国企业和消费者也将面临更高的采购成本，减少对中国产品的需求。\n",
      "- **政治层面**：此举被中国视为单边主义和贸易保护主义的表现，可能加剧中美之间的贸易紧张关系，削弱双方在其他领域的合作基础，影响两国整体关系的稳定。\n",
      "\n",
      "**对全球经济和产业链的影响：**\n",
      "- **全球供应链**：中美作为全球最大的两个经济体，其贸易摩擦可能对全球供应链的稳定性产生负面影响，导致供应链重新调整，增加企业的经营成本和不确定性。\n",
      "- **国际贸易规则**：美方单边加征关税的行为被中国指责为违反世贸组织规则，若持续，可能引发更多国家采取类似保护主义措施，削弱全球多边贸易体系的有效性，阻碍全球经济自由化和公平化进程。\n",
      "\n",
      "**总结：**\n",
      "此次美国对中国输美产品加征关税的政策，不仅对中美两国的经济和贸易关系造成冲击，也对全球产业链和经济复苏带来不确定性。中方对此坚决反对，并呼吁美方纠正错误做法，恢复正常的经贸合作关系，以实现互利共赢，维护全球经济的稳定与发展。\n",
      "股票分析报告：根据您提供的新闻内容以及其他分析师的分析，以下是可能受到影响的股票类型及其原因：\n",
      "\n",
      "### 一、**受负面影响的股票类型**\n",
      "\n",
      "1. **中国出口导向型制造业公司**\n",
      "   - **原因**：美国对中国输美产品加征10%的关税将直接增加这些公司的产品在美国市场的成本，削弱其价格竞争力，可能导致订单减少和收入下降。例如，电子产品制造商、纺织品企业、机械设备制造商等。\n",
      "   \n",
      "2. **以美国为主要市场的中国企业**\n",
      "   - **原因**：关税上升可能导致这些企业的销售额下降，进而影响其盈利能力和股价表现。特别是那些高度依赖美国市场的中小型企业，受影响尤为显著。\n",
      "\n",
      "3. **全球供应链中的中国产公司**\n",
      "   - **原因**：中美贸易摩擦可能导致全球供应链的重新调整，增加这些公司运营的不确定性和成本。例如，电子元件、汽车零部件等供应链上的中国产企业可能面临订单减少或供应链中断的风险。\n",
      "\n",
      "4. **依赖大宗进口的中国企业**\n",
      "   - **原因**：关税上升可能导致进口成本增加，影响这些企业的利润率。例如，原材料供应商、零部件进口商等。\n",
      "\n",
      "### 二、**受正面影响的股票类型**\n",
      "\n",
      "1. **美国本土制造业公司**\n",
      "   - **原因**：关税提升使得中国产品价格上涨，美国本土生产的同类产品在价格上更具竞争力，可能增加这些公司的销售和市场份额。例如，美国的电子设备制造商、纺织企业等。\n",
      "\n",
      "2. **受益于贸易保护主义的行业**\n",
      "   - **原因**：一些特定行业可能因关税政策获益，如钢铁、铝业等，这些行业在美国可能减少对中国产品的依赖，转而增加本土生产和采购。\n",
      "\n",
      "3. **替代供应链的企业**\n",
      "   - **原因**：随着中美贸易摩擦加剧，部分企业可能寻找其他国家作为供应链替代，从而受益于这些替代供应链国家的相关制造业企业。例如，越南、印度等国的制造企业可能因为替代需求增加而受益。\n",
      "\n",
      "### 三、**中性或间接受影响的股票类型**\n",
      "\n",
      "1. **物流和运输公司**\n",
      "   - **原因**：贸易摩擦可能导致物流成本上升或运输路线调整，这些变动可能对物流和运输公司的业务量和利润率产生影响。例如，国际货运公司、港口运营商等。\n",
      "   \n",
      "2. **跨国科技公司**\n",
      "   - **原因**：虽然科技巨头在全球市场中占据主导地位，但关税和贸易不确定性可能影响其供应链和市场策略，进而对其股价产生波动。例如，苹果、华为等公司。\n",
      "\n",
      "3. **银行和金融服务公司**\n",
      "   - **原因**：中美贸易摩擦可能导致市场波动增加，进而影响金融市场的不确定性，这对银行和金融服务公司的综合业务可能带来一定影响，但整体影响可能较为间接和中性。\n",
      "\n",
      "### 四、**投资策略建议**\n",
      "\n",
      "1. **多元化投资组合**\n",
      "   - 面对中美贸易摩擦带来的不确定性，投资者应考虑分散投资，降低单一市场或行业的风险暴露。\n",
      "   \n",
      "2. **关注受益行业和公司**\n",
      "   - 可以重点关注那些在贸易保护主义下可能受益的美国本土制造业公司以及替代供应链国家的制造企业。\n",
      "\n",
      "3. **防范供应链风险**\n",
      "   - 对于依赖复杂全球供应链的企业，需关注其供应链多元化和风险管理策略，选择那些具备较强供应链韧性的公司进行投资。\n",
      "\n",
      "4. **长期视角投资**\n",
      "   - 中美贸易关系的长期走向存在不确定性，投资者应采取长期视角，避免因短期波动做出过度反应性的投资决策。\n",
      "\n",
      "### 五、**总结**\n",
      "\n",
      "此次美方对中国输美产品加征10%关税，将对中美两国的相关行业和公司产生深远影响。投资者应密切关注政策动态，评估相关企业的应对策略和市场表现，合理调整投资组合，以应对潜在的市场波动和风险。同时，建议关注全球供应链的变化趋势，抓住新的市场机遇。\n",
      "股票列表：显盈科技, 信音电子, 壹连科技, 华嵘控股\n",
      "\n"
     ]
    }
   ],
   "source": [
    "final_state = app.invoke(\n",
    "    {'news': None, 'messages': [], 'stocks': [], 'report': None},\n",
    "    config={'configurable': {'thread_id': 'information_analysis'}},\n",
    ")\n",
    "\n",
    "print(final_state['report'])"
   ]
  }
 ],
 "metadata": {
  "kernelspec": {
   "display_name": "ai-stock-advisor",
   "language": "python",
   "name": "python3"
  },
  "language_info": {
   "codemirror_mode": {
    "name": "ipython",
    "version": 3
   },
   "file_extension": ".py",
   "mimetype": "text/x-python",
   "name": "python",
   "nbconvert_exporter": "python",
   "pygments_lexer": "ipython3",
   "version": "3.11.11"
  }
 },
 "nbformat": 4,
 "nbformat_minor": 2
}

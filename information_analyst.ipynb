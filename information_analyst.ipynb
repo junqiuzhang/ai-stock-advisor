{
 "cells": [
  {
   "cell_type": "markdown",
   "metadata": {},
   "source": [
    "# 资讯分析师"
   ]
  },
  {
   "cell_type": "markdown",
   "metadata": {},
   "source": [
    "## 准备工作"
   ]
  },
  {
   "cell_type": "markdown",
   "metadata": {},
   "source": [
    "pip安装 `akshare` 和 `langchain` 等必需的库："
   ]
  },
  {
   "cell_type": "code",
   "execution_count": 1,
   "metadata": {},
   "outputs": [
    {
     "name": "stdout",
     "output_type": "stream",
     "text": [
      "Note: you may need to restart the kernel to use updated packages.\n"
     ]
    }
   ],
   "source": [
    "%pip install --upgrade --quiet pandas akshare lark langchain-core langchain-openai langchain-community langchain-chroma langgraph"
   ]
  },
  {
   "cell_type": "markdown",
   "metadata": {},
   "source": [
    "获取股票主营介绍数据："
   ]
  },
  {
   "cell_type": "code",
   "execution_count": null,
   "metadata": {},
   "outputs": [],
   "source": [
    "import pandas as pd\n",
    "import akshare as ak\n",
    "\n",
    "# 沪深京 A 股实时行情数据\n",
    "stock_zh_a_spot_em_df = ak.stock_zh_a_spot_em()\n",
    "# 股票对应的主营介绍数据\n",
    "stock_zyjs_ths_dfs = []\n",
    "for stock_code, stock_name in zip(stock_zh_a_spot_em_df['代码'], stock_zh_a_spot_em_df['名称']):\n",
    "    try:\n",
    "        stock_zyjs_ths_df = ak.stock_zyjs_ths(stock_code)\n",
    "        stock_zyjs_ths_df['股票名称'] = stock_name\n",
    "        stock_zyjs_ths_dfs.append(stock_zyjs_ths_df)\n",
    "    except Exception as e:\n",
    "        print(f'Error processing stock {stock_code}: {e}')\n",
    "        continue\n",
    "stock_zyjs_ths_df = pd.concat(stock_zyjs_ths_dfs)\n",
    "stock_zyjs_ths_df.to_csv('data/stock_zyjs_ths.csv', index=False, quoting=1)"
   ]
  },
  {
   "cell_type": "markdown",
   "metadata": {},
   "source": [
    "加载股票主营介绍数据："
   ]
  },
  {
   "cell_type": "code",
   "execution_count": 5,
   "metadata": {},
   "outputs": [
    {
     "name": "stdout",
     "output_type": "stream",
     "text": [
      "Loaded 5662 documents\n"
     ]
    }
   ],
   "source": [
    "from langchain_community.document_loaders.csv_loader import CSVLoader\n",
    "\n",
    "loader = CSVLoader(\n",
    "    file_path='data/stock_zyjs_ths.csv',\n",
    "    csv_args={\n",
    "        'delimiter': ',',\n",
    "        'quotechar': '\"',\n",
    "    },\n",
    "    metadata_columns=['股票代码', '股票名称']\n",
    ")\n",
    "\n",
    "documents = loader.load()\n",
    "print(f'Loaded {len(documents)} documents')"
   ]
  },
  {
   "cell_type": "markdown",
   "metadata": {},
   "source": [
    "embedding股票主营介绍数据并存储到向量数据库："
   ]
  },
  {
   "cell_type": "code",
   "execution_count": null,
   "metadata": {},
   "outputs": [],
   "source": [
    "import os\n",
    "import pandas as pd\n",
    "\n",
    "from langchain_openai import AzureOpenAIEmbeddings\n",
    "from langchain_chroma import Chroma\n",
    "\n",
    "embeddings = AzureOpenAIEmbeddings(\n",
    "    azure_endpoint=os.environ['AZURE_OPENAI_ENDPOINT'],\n",
    "    azure_deployment=os.environ['AZURE_OPENAI_EMBEDDING_DEPLOYMENT_NAME'],\n",
    "    openai_api_version=os.environ['AZURE_OPENAI_EMBEDDING_API_VERSION'],\n",
    ")\n",
    "\n",
    "vector_store = Chroma(\n",
    "    collection_name='stock_zyjs_ths',\n",
    "    embedding_function=embeddings,\n",
    "    persist_directory='data/verctor_store.db',\n",
    ")\n",
    "\n",
    "ids = pd.read_csv('data/stock_zyjs_ths.csv')['股票代码'].astype(str).tolist()\n",
    "\n",
    "for i in range(0, len(ids), 100):\n",
    "    print(f'Adding documents {i} to {i+100}')\n",
    "    partial_ids = ids[i:i+100]\n",
    "    partial_documents = documents[i:i+100]\n",
    "    # vector_store.add_documents(documents=partial_documents, ids=partial_ids)\n",
    "    vector_store.update_documents(documents=partial_documents, ids=partial_ids)"
   ]
  },
  {
   "cell_type": "markdown",
   "metadata": {},
   "source": [
    "## 资讯分析"
   ]
  },
  {
   "cell_type": "markdown",
   "metadata": {},
   "source": [
    "初始化LLM模型和向量数据库："
   ]
  },
  {
   "cell_type": "code",
   "execution_count": 1,
   "metadata": {},
   "outputs": [],
   "source": [
    "import os\n",
    "\n",
    "from langchain_openai import AzureChatOpenAI, AzureOpenAIEmbeddings\n",
    "from langchain_openai.chat_models.base import BaseChatOpenAI\n",
    "from langchain_chroma import Chroma\n",
    "\n",
    "# llm = AzureChatOpenAI(\n",
    "#     azure_endpoint=os.environ['AZURE_OPENAI_ENDPOINT'],\n",
    "#     azure_deployment=os.environ['AZURE_OPENAI_CHAT_DEPLOYMENT_NAME'],\n",
    "#     openai_api_version=os.environ['AZURE_OPENAI_CHAT_API_VERSION'],\n",
    "# )\n",
    "\n",
    "llm = BaseChatOpenAI(\n",
    "    model='deepseek-chat', \n",
    "    openai_api_base=os.environ['DEEPSEEK_ENDPOINT'],\n",
    "    openai_api_key=os.environ['DEEPSEEK_API_KEY'], \n",
    "    max_tokens=1024\n",
    ")\n",
    "\n",
    "\n",
    "embeddings = AzureOpenAIEmbeddings(\n",
    "    azure_endpoint=os.environ['AZURE_OPENAI_ENDPOINT'],\n",
    "    azure_deployment=os.environ['AZURE_OPENAI_EMBEDDING_DEPLOYMENT_NAME'],\n",
    "    openai_api_version=os.environ['AZURE_OPENAI_EMBEDDING_API_VERSION'],\n",
    ")\n",
    "\n",
    "vector_store = Chroma(\n",
    "    collection_name='stock_zyjs_ths',\n",
    "    embedding_function=embeddings,\n",
    "    persist_directory='data/verctor_store.db',\n",
    ")"
   ]
  },
  {
   "cell_type": "markdown",
   "metadata": {},
   "source": [
    "定义状态："
   ]
  },
  {
   "cell_type": "code",
   "execution_count": 2,
   "metadata": {},
   "outputs": [],
   "source": [
    "from typing import Annotated\n",
    "from typing_extensions import TypedDict\n",
    "from langchain_core.documents import Document\n",
    "from langgraph.graph.message import add_messages\n",
    "\n",
    "class State(TypedDict):\n",
    "    news: str\n",
    "    category: str\n",
    "    messages: Annotated[list, add_messages]\n",
    "    stocks: list[Document]\n",
    "    report: str"
   ]
  },
  {
   "cell_type": "markdown",
   "metadata": {},
   "source": [
    "定义获取财经新闻工具："
   ]
  },
  {
   "cell_type": "code",
   "execution_count": 3,
   "metadata": {},
   "outputs": [],
   "source": [
    "import akshare as ak\n",
    "\n",
    "def get_financial_news(state: State):\n",
    "    \"\"\"Call the AkShare API to get the latest financial news.\"\"\"\n",
    "    stock_info_global_sina_df = ak.stock_info_global_sina()\n",
    "    first_stock_info = stock_info_global_sina_df.iloc[0]['内容']\n",
    "    return {\n",
    "        'news': first_stock_info\n",
    "    }\n"
   ]
  },
  {
   "cell_type": "markdown",
   "metadata": {},
   "source": [
    "定义新闻分类节点:"
   ]
  },
  {
   "cell_type": "code",
   "execution_count": 4,
   "metadata": {},
   "outputs": [],
   "source": [
    "from langchain_core.prompts import PromptTemplate\n",
    "\n",
    "news_category_prompt_template = PromptTemplate.from_template('''你是一个财经新闻分类助手。\n",
    "请根据以下财经新闻的内容，将其分类到适当的类别中。可用的类别包括：\n",
    "1. 公司新闻\n",
    "2. 行业动态\n",
    "3. 市场趋势\n",
    "4. 经济指标\n",
    "5. 政策法规\n",
    "如果无法确定分类，请输出“无法确定”。\n",
    "以下是需要分类的财经新闻：\n",
    "{news}\n",
    "''')\n",
    "\n",
    "get_news_category_chain = news_category_prompt_template | llm\n",
    "def get_news_category(state: State):\n",
    "    message = get_news_category_chain.invoke(state)\n",
    "    return {\n",
    "        'category': message.content\n",
    "    }"
   ]
  },
  {
   "cell_type": "markdown",
   "metadata": {},
   "source": [
    "定义公司新闻分析节点："
   ]
  },
  {
   "cell_type": "code",
   "execution_count": 5,
   "metadata": {},
   "outputs": [],
   "source": [
    "from langchain_core.prompts import PromptTemplate\n",
    "\n",
    "company_news_analysis_prompt_template = PromptTemplate.from_template('''你是一个公司新闻分析助手。\n",
    "请根据以下公司新闻的内容，分析其对公司的影响。从以下几个方面进行分析：\n",
    "1. 公司业务\n",
    "2. 公司财务\n",
    "3. 公司管理\n",
    "4. 公司风险\n",
    "5. 公司前景\n",
    "以下是需要分析的公司新闻：\n",
    "{news}\n",
    "''')\n",
    "\n",
    "get_company_news_analysis_chain = company_news_analysis_prompt_template | llm\n",
    "def get_company_news_analysis(state: State):\n",
    "    message = get_company_news_analysis_chain.invoke(state)\n",
    "    return {\n",
    "        'messages': [message]\n",
    "    }"
   ]
  },
  {
   "cell_type": "markdown",
   "metadata": {},
   "source": [
    "定义行业动态新闻分析节点："
   ]
  },
  {
   "cell_type": "code",
   "execution_count": 6,
   "metadata": {},
   "outputs": [],
   "source": [
    "from langchain_core.prompts import PromptTemplate\n",
    "\n",
    "industry_news_analysis_prompt_template = PromptTemplate.from_template('''你是一个行业新闻分析助手。\n",
    "请根据以下行业新闻的内容，分析其对行业的影响。从以下几个方面进行分析：\n",
    "1. 行业发展\n",
    "2. 行业竞争\n",
    "3. 行业政策\n",
    "4. 行业前景\n",
    "以下是需要分析的行业新闻：\n",
    "{news}\n",
    "''')\n",
    "\n",
    "get_industry_news_analysis_chain = industry_news_analysis_prompt_template | llm\n",
    "def get_industry_news_analysis(state: State):\n",
    "    message = get_industry_news_analysis_chain.invoke(state)\n",
    "    return {\n",
    "        'messages': [message]\n",
    "    }"
   ]
  },
  {
   "cell_type": "markdown",
   "metadata": {},
   "source": [
    "定义市场趋势新闻分析节点："
   ]
  },
  {
   "cell_type": "code",
   "execution_count": 7,
   "metadata": {},
   "outputs": [],
   "source": [
    "from langchain_core.prompts import PromptTemplate\n",
    "\n",
    "market_news_analysis_prompt_template = PromptTemplate.from_template('''你是一个市场新闻分析助手。\n",
    "请根据以下市场新闻的内容，分析其对市场的影响。从以下几个方面进行分析：\n",
    "1. 市场趋势\n",
    "2. 市场风险\n",
    "3. 市场前景\n",
    "以下是需要分析的市场新闻：\n",
    "{news}\n",
    "''')\n",
    "\n",
    "get_market_news_analysis_chain = market_news_analysis_prompt_template | llm\n",
    "def get_market_news_analysis(state: State):\n",
    "    message = get_market_news_analysis_chain.invoke(state)\n",
    "    return {\n",
    "        'messages': [message]\n",
    "    }"
   ]
  },
  {
   "cell_type": "markdown",
   "metadata": {},
   "source": [
    "定义经济指标新闻分析节点："
   ]
  },
  {
   "cell_type": "code",
   "execution_count": 8,
   "metadata": {},
   "outputs": [],
   "source": [
    "from langchain_core.prompts import PromptTemplate\n",
    "\n",
    "metrics_news_analysis_prompt_template = PromptTemplate.from_template('''你是一个经济指标分析助手。\n",
    "请根据以下经济指标的内容，分析其对经济的影响。从以下几个方面进行分析：\n",
    "1. 经济增长\n",
    "2. 通货膨胀\n",
    "3. 就业情况\n",
    "4. 利率水平\n",
    "5. 汇率变动\n",
    "以下是需要分析的经济指标新闻：\n",
    "{news}\n",
    "''')\n",
    "\n",
    "get_metrics_news_analysis_chain = metrics_news_analysis_prompt_template | llm\n",
    "def get_metrics_news_analysis(state: State):\n",
    "    message = get_metrics_news_analysis_chain.invoke(state)\n",
    "    return {\n",
    "        'messages': [message]\n",
    "    }"
   ]
  },
  {
   "cell_type": "markdown",
   "metadata": {},
   "source": [
    "定义政策法规新闻分析节点："
   ]
  },
  {
   "cell_type": "code",
   "execution_count": 9,
   "metadata": {},
   "outputs": [],
   "source": [
    "from langchain_core.prompts import PromptTemplate\n",
    "\n",
    "policy_news_analysis_prompt_template = PromptTemplate.from_template('''你是一个政策新闻分析助手。\n",
    "请根据以下政策新闻的内容，分析其对政策的影响。从以下几个方面进行分析：\n",
    "1. 政策内容\n",
    "2. 政策目的\n",
    "3. 政策影响\n",
    "以下是需要分析的政策新闻：\n",
    "{news}\n",
    "''')\n",
    "\n",
    "get_policy_news_analysis_chain = policy_news_analysis_prompt_template | llm\n",
    "def get_policy_news_analysis(state: State):\n",
    "    message = get_policy_news_analysis_chain.invoke(state)\n",
    "    return {\n",
    "        'messages': [message]\n",
    "    }"
   ]
  },
  {
   "cell_type": "markdown",
   "metadata": {},
   "source": [
    "定义无法确定分类的新闻节点："
   ]
  },
  {
   "cell_type": "code",
   "execution_count": 10,
   "metadata": {},
   "outputs": [],
   "source": [
    "from langchain_core.messages import AIMessage\n",
    "\n",
    "def get_unknown_category_analysis(state: State):\n",
    "    return {\n",
    "        'messages': [AIMessage(content='暂无分析')]\n",
    "    }"
   ]
  },
  {
   "cell_type": "markdown",
   "metadata": {},
   "source": [
    "定义检索器节点："
   ]
  },
  {
   "cell_type": "code",
   "execution_count": 11,
   "metadata": {},
   "outputs": [],
   "source": [
    "from langchain.chains.query_constructor.schema import AttributeInfo\n",
    "from langchain.retrievers.self_query.base import SelfQueryRetriever\n",
    "\n",
    "metadata_field_info = [\n",
    "    AttributeInfo(\n",
    "        name='股票代码',\n",
    "        description='股票代码',\n",
    "        type='string',\n",
    "    ),\n",
    "    AttributeInfo(\n",
    "        name='股票名称',\n",
    "        description='股票名称',\n",
    "        type='integer',\n",
    "    ),\n",
    "]\n",
    "\n",
    "document_content_description = '股票主营介绍'\n",
    "\n",
    "retriever = SelfQueryRetriever.from_llm(\n",
    "    llm,\n",
    "    vector_store,\n",
    "    document_content_description,\n",
    "    metadata_field_info,\n",
    ")\n",
    "\n",
    "def search_stocks(state: State):\n",
    "    messages = state['messages']\n",
    "    stocks = retriever.invoke(messages[-1].content)\n",
    "    return {\n",
    "        'stocks': stocks\n",
    "    }"
   ]
  },
  {
   "cell_type": "markdown",
   "metadata": {},
   "source": [
    "定义输出报告节点："
   ]
  },
  {
   "cell_type": "code",
   "execution_count": 12,
   "metadata": {},
   "outputs": [],
   "source": [
    "def get_report(state: State):\n",
    "    news = state['news']\n",
    "    messages = state['messages']\n",
    "    report = f'''最新财经新闻：{news}\n",
    "分类结果：{state['category']}\n",
    "报告：{messages[-1].content}\n",
    "可能受到影响的股票：{', '.join([stock.metadata['股票名称'] for stock in state['stocks']])}\n",
    "'''\n",
    "    return {\n",
    "        'report': report\n",
    "    }"
   ]
  },
  {
   "cell_type": "markdown",
   "metadata": {},
   "source": [
    "定义并编译图："
   ]
  },
  {
   "cell_type": "code",
   "execution_count": 13,
   "metadata": {},
   "outputs": [
    {
     "data": {
      "image/png": "[encoded data removed]",
      "text/plain": [
       "<IPython.core.display.Image object>"
      ]
     },
     "metadata": {},
     "output_type": "display_data"
    }
   ],
   "source": [
    "from langchain_core.globals import set_llm_cache\n",
    "from langchain_core.caches import InMemoryCache\n",
    "from langgraph.checkpoint.memory import MemorySaver\n",
    "from langgraph.graph import END, START, StateGraph\n",
    "from IPython.display import Image, display\n",
    "\n",
    "set_llm_cache(InMemoryCache())\n",
    "\n",
    "workflow = StateGraph(State)\n",
    "news_category_nodes = ['get_company_news_analysis_node', 'get_industry_news_analysis_node', 'get_market_news_analysis_node', 'get_metrics_news_analysis_node', 'get_policy_news_analysis_node', 'get_unknown_category_analysis_node']\n",
    "news_category_functions = [get_company_news_analysis, get_industry_news_analysis, get_market_news_analysis, get_metrics_news_analysis, get_policy_news_analysis, get_unknown_category_analysis]\n",
    "workflow.add_node('get_financial_news_node', get_financial_news)\n",
    "workflow.add_node('get_news_category_node', get_news_category)\n",
    "for news_category_node, news_category_function in zip(news_category_nodes, news_category_functions):\n",
    "    workflow.add_node(news_category_node, news_category_function)\n",
    "workflow.add_node('search_stocks_node', search_stocks)\n",
    "workflow.add_node('get_report_node', get_report)\n",
    "\n",
    "def route_news_category(state: State):\n",
    "    category = state['category']\n",
    "    if '公司新闻' in category:\n",
    "        return ['get_company_news_analysis_node']\n",
    "    elif '行业动态' in category:\n",
    "        return ['get_industry_news_analysis_node']\n",
    "    elif '市场趋势' in category:\n",
    "        return ['get_market_news_analysis_node']\n",
    "    elif '经济指标' in category:\n",
    "        return ['get_metrics_news_analysis_node']\n",
    "    elif '政策法规' in category:\n",
    "        return ['get_policy_news_analysis_node']\n",
    "    else:\n",
    "        return ['get_unknown_category_analysis_node']\n",
    "\n",
    "workflow.add_edge(START, 'get_financial_news_node')\n",
    "workflow.add_edge('get_financial_news_node', 'get_news_category_node')\n",
    "workflow.add_conditional_edges('get_news_category_node', route_news_category, news_category_nodes)\n",
    "for news_category_node in news_category_nodes:\n",
    "    workflow.add_edge(news_category_node, 'search_stocks_node')\n",
    "workflow.add_edge('search_stocks_node', 'get_report_node')\n",
    "workflow.add_edge('get_report_node', END)\n",
    "\n",
    "checkpointer = MemorySaver()\n",
    "\n",
    "app = workflow.compile(checkpointer=checkpointer)\n",
    "\n",
    "display(Image(app.get_graph().draw_mermaid_png()))\n"
   ]
  },
  {
   "cell_type": "markdown",
   "metadata": {},
   "source": [
    "执行图："
   ]
  },
  {
   "cell_type": "code",
   "execution_count": 14,
   "metadata": {},
   "outputs": [
    {
     "name": "stdout",
     "output_type": "stream",
     "text": [
      "最新财经新闻：【李强同外国专家举行新春座谈会 丁薛祥出席】在农历新春佳节即将到来之际，国务院总理李强1月26日下午在人民大会堂与获得2024年度中国政府友谊奖和在华工作的外国专家代表座谈交流。李强指出，过去一年，中国发展取得了新的成绩，外国专家为此作出积极贡献。大家在华工作、生活的经历，也是中国与世界良性互动、深度融合的生动缩影。从中可以得到许多重要的启示，突出的有两点：一是世界需要交流。当今世界并不安宁，国际环境越复杂，越需要各国敞开胸怀、沟通对话。这些年，随着大数据、物联网、人工智能等技术迅猛发展，各国人员往来、信息交互越来越便捷频繁，全球化进程不可逆转。中国一贯主张加强国际沟通对话，鼓励开展中外各层级、各方面交流往来，推动互学互鉴，促进民心相通。我们将继续坚持开放包容，积极促进各领域国际交流，推动各方通过坦诚对话、友好协商，化解矛盾分歧，共促和平发展。二是创新需要合作。随着新一轮科技革命和产业变革深入发展，科学研究的复杂性、系统性显著增强，开放合作是大势所趋和必然选择。这些年，中国以实际行动促进科技合作和成果共享，主动融入全球创新网络，发起国际科技合作倡议，支持各国科研人员共同探讨科技发展前沿问题。我们将继续扩大科技开放，拓展和深化联合科研，深度参与全球科技治理，同各国一道合作解决实际问题，携手应对全球挑战。（新华社）\n",
      "分类结果：无法确定\n",
      "\n",
      "解释：该新闻主要报道了国务院总理李强与外国专家代表座谈交流的内容，涉及国际合作、科技创新等话题，但并未明确聚焦于公司、行业、市场趋势、经济指标或政策法规等具体财经类别。因此，无法将其准确归类到提供的财经新闻类别中。\n",
      "报告：1. **市场趋势**：  \n",
      "   新闻中提到中国将继续坚持开放包容，促进国际交流与合作，特别是在科技创新领域。这表明中国将进一步融入全球创新网络，推动科技合作和成果共享。这一趋势将有助于中国在高科技领域（如人工智能、物联网、大数据等）的进一步发展，并可能带动相关行业的增长。同时，全球化进程的不可逆转性也意味着中国企业将继续在国际市场上扩展业务，推动跨境投资和贸易的增长。\n",
      "\n",
      "2. **市场风险**：  \n",
      "   尽管中国强调开放合作，但国际环境的不确定性仍然存在。全球政治经济形势复杂多变，地缘政治风险、贸易摩擦、技术封锁等因素可能对中国的国际合作和科技发展构成挑战。此外，随着中国在科技领域的快速崛起，部分国家可能会采取保护主义措施，限制技术转移或合作，增加市场的不确定性。\n",
      "\n",
      "3. **市场前景**：  \n",
      "   从长期来看，中国坚持开放合作的政策将有助于提升其在国际科技领域的地位，推动创新驱动发展。通过与外国专家的合作，中国有望在关键技术领域取得突破，提升全球竞争力。同时，国际交流的深化也将促进中国与其他国家的经济合作，推动全球市场的共同繁荣。总体而言，市场前景较为乐观，尤其是在科技创新和全球化合作方面，中国有望继续发挥重要作用。\n",
      "可能受到影响的股票：盛视科技, 退市工新, 罗普特, 创业黑马\n",
      "\n"
     ]
    }
   ],
   "source": [
    "final_state = app.invoke(\n",
    "    {'news': None, 'messages': [], 'stocks': [], 'report': None},\n",
    "    config={'configurable': {'thread_id': 'information_analysis'}},\n",
    ")\n",
    "\n",
    "print(final_state['report'])"
   ]
  }
 ],
 "metadata": {
  "kernelspec": {
   "display_name": "ai-stock-advisor",
   "language": "python",
   "name": "python3"
  },
  "language_info": {
   "codemirror_mode": {
    "name": "ipython",
    "version": 3
   },
   "file_extension": ".py",
   "mimetype": "text/x-python",
   "name": "python",
   "nbconvert_exporter": "python",
   "pygments_lexer": "ipython3",
   "version": "3.11.11"
  }
 },
 "nbformat": 4,
 "nbformat_minor": 2
}

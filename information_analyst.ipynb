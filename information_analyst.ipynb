{
 "cells": [
  {
   "cell_type": "markdown",
   "metadata": {},
   "source": [
    "# 资讯分析师"
   ]
  },
  {
   "cell_type": "markdown",
   "metadata": {},
   "source": [
    "## 准备工作"
   ]
  },
  {
   "cell_type": "markdown",
   "metadata": {},
   "source": [
    "pip安装 `akshare` 和 `langchain` 等必需的库："
   ]
  },
  {
   "cell_type": "code",
   "execution_count": 18,
   "metadata": {},
   "outputs": [
    {
     "name": "stdout",
     "output_type": "stream",
     "text": [
      "Note: you may need to restart the kernel to use updated packages.\n"
     ]
    }
   ],
   "source": [
    "%pip install --upgrade --quiet pandas akshare lark langchain-core langchain-openai langchain-community langchain-chroma"
   ]
  },
  {
   "cell_type": "markdown",
   "metadata": {},
   "source": [
    "获取股票主营介绍数据："
   ]
  },
  {
   "cell_type": "code",
   "execution_count": null,
   "metadata": {},
   "outputs": [],
   "source": [
    "import pandas as pd\n",
    "import akshare as ak\n",
    "\n",
    "# 沪深京 A 股实时行情数据\n",
    "stock_zh_a_spot_em_df = ak.stock_zh_a_spot_em()\n",
    "# 股票对应的主营介绍数据\n",
    "stock_zyjs_ths_dfs = []\n",
    "for stock_code, stock_name in zip(stock_zh_a_spot_em_df['代码'], stock_zh_a_spot_em_df['名称']):\n",
    "    try:\n",
    "        stock_zyjs_ths_df = ak.stock_zyjs_ths(stock_code)\n",
    "        stock_zyjs_ths_df['股票名称'] = stock_name\n",
    "        stock_zyjs_ths_dfs.append(stock_zyjs_ths_df)\n",
    "    except Exception as e:\n",
    "        print(f\"Error processing stock {stock_code}: {e}\")\n",
    "        continue\n",
    "stock_zyjs_ths_df = pd.concat(stock_zyjs_ths_dfs)\n",
    "stock_zyjs_ths_df.to_csv('data/stock_zyjs_ths.csv', index=False, quoting=1)"
   ]
  },
  {
   "cell_type": "markdown",
   "metadata": {},
   "source": [
    "加载股票主营介绍数据："
   ]
  },
  {
   "cell_type": "code",
   "execution_count": 5,
   "metadata": {},
   "outputs": [
    {
     "name": "stdout",
     "output_type": "stream",
     "text": [
      "Loaded 5662 documents\n"
     ]
    }
   ],
   "source": [
    "from langchain_community.document_loaders.csv_loader import CSVLoader\n",
    "\n",
    "loader = CSVLoader(\n",
    "    file_path='data/stock_zyjs_ths.csv',\n",
    "    csv_args={\n",
    "        'delimiter': ',',\n",
    "        'quotechar': '\"',\n",
    "    },\n",
    "    metadata_columns=['股票代码', '股票名称']\n",
    ")\n",
    "\n",
    "documents = loader.load()\n",
    "print(f\"Loaded {len(documents)} documents\")"
   ]
  },
  {
   "cell_type": "markdown",
   "metadata": {},
   "source": [
    "embedding股票主营介绍数据并存储到向量数据库："
   ]
  },
  {
   "cell_type": "code",
   "execution_count": null,
   "metadata": {},
   "outputs": [],
   "source": [
    "import os\n",
    "import pandas as pd\n",
    "\n",
    "from langchain_openai import AzureOpenAIEmbeddings\n",
    "from langchain_chroma import Chroma\n",
    "\n",
    "embeddings = AzureOpenAIEmbeddings(\n",
    "    azure_endpoint=os.environ[\"AZURE_OPENAI_ENDPOINT\"],\n",
    "    azure_deployment=os.environ[\"AZURE_OPENAI_EMBEDDING_DEPLOYMENT_NAME\"],\n",
    "    openai_api_version=os.environ[\"AZURE_OPENAI_EMBEDDING_API_VERSION\"],\n",
    ")\n",
    "\n",
    "vector_store = Chroma(\n",
    "    collection_name=\"stock_zyjs_ths\",\n",
    "    embedding_function=embeddings,\n",
    "    persist_directory=\"data/verctor_store.db\",\n",
    ")\n",
    "\n",
    "ids = pd.read_csv('data/stock_zyjs_ths.csv')['股票代码'].astype(str).tolist()\n",
    "\n",
    "for i in range(0, len(ids), 100):\n",
    "    print(f\"Adding documents {i} to {i+100}\")\n",
    "    partial_ids = ids[i:i+100]\n",
    "    partial_documents = documents[i:i+100]\n",
    "    # vector_store.add_documents(documents=partial_documents, ids=partial_ids)\n",
    "    vector_store.update_documents(documents=partial_documents, ids=partial_ids)"
   ]
  },
  {
   "cell_type": "markdown",
   "metadata": {},
   "source": [
    "## 资讯分析"
   ]
  },
  {
   "cell_type": "markdown",
   "metadata": {},
   "source": [
    "连接向量数据库："
   ]
  },
  {
   "cell_type": "code",
   "execution_count": 1,
   "metadata": {},
   "outputs": [],
   "source": [
    "import os\n",
    "\n",
    "from langchain_openai import AzureOpenAIEmbeddings\n",
    "from langchain_chroma import Chroma\n",
    "\n",
    "embeddings = AzureOpenAIEmbeddings(\n",
    "    azure_endpoint=os.environ[\"AZURE_OPENAI_ENDPOINT\"],\n",
    "    azure_deployment=os.environ[\"AZURE_OPENAI_EMBEDDING_DEPLOYMENT_NAME\"],\n",
    "    openai_api_version=os.environ[\"AZURE_OPENAI_EMBEDDING_API_VERSION\"],\n",
    ")\n",
    "\n",
    "vector_store = Chroma(\n",
    "    collection_name=\"stock_zyjs_ths\",\n",
    "    embedding_function=embeddings,\n",
    "    persist_directory=\"data/verctor_store.db\",\n",
    ")"
   ]
  },
  {
   "cell_type": "markdown",
   "metadata": {},
   "source": [
    "定义检索器："
   ]
  },
  {
   "cell_type": "code",
   "execution_count": 9,
   "metadata": {},
   "outputs": [],
   "source": [
    "from langchain_openai import AzureChatOpenAI\n",
    "from langchain.chains.query_constructor.schema import AttributeInfo\n",
    "from langchain.retrievers.self_query.base import SelfQueryRetriever\n",
    "\n",
    "llm = AzureChatOpenAI(\n",
    "    azure_endpoint=os.environ[\"AZURE_OPENAI_ENDPOINT\"],\n",
    "    azure_deployment=os.environ[\"AZURE_OPENAI_CHAT_DEPLOYMENT_NAME\"],\n",
    "    openai_api_version=os.environ[\"AZURE_OPENAI_CHAT_API_VERSION\"],\n",
    ")\n",
    "\n",
    "metadata_field_info = [\n",
    "    AttributeInfo(\n",
    "        name=\"股票代码\",\n",
    "        description='股票代码',\n",
    "        type=\"string\",\n",
    "    ),\n",
    "    AttributeInfo(\n",
    "        name=\"股票名称\",\n",
    "        description=\"股票名称\",\n",
    "        type=\"integer\",\n",
    "    ),\n",
    "]\n",
    "\n",
    "document_content_description = \"股票主营介绍\"\n",
    "\n",
    "retriever = SelfQueryRetriever.from_llm(\n",
    "    llm,\n",
    "    vector_store,\n",
    "    document_content_description,\n",
    "    metadata_field_info,\n",
    ")\n"
   ]
  },
  {
   "cell_type": "code",
   "execution_count": 14,
   "metadata": {},
   "outputs": [
    {
     "data": {
      "text/plain": [
       "[[Document(metadata={'row': 1134, 'source': 'data/stock_zyjs_ths.csv', '股票代码': '600009', '股票名称': '上海机场'}, page_content='主营业务: 从事航空运输地面服务及其他相关业务。\\n产品类型: 航空及相关服务\\n产品名称: 航空及相关服务\\n经营范围: 国内外航空运输企业及旅客提供地面保障服务，经营出租机场内航空营业场所、商业场所和办公场所，国内贸易（除专项规定）；广告经营，经营其它与航空运输有关的业务；货运代理；代理报验；代理报关；长途客运站（限分支机构经营）；综合开发，经营国家政策许可的其它投资项目，停车场管理及停车延伸服务。（依法须经批准的项目，经相关部门批准后方可开展经营活动）。')],\n",
       " [Document(metadata={'row': 1134, 'source': 'data/stock_zyjs_ths.csv', '股票代码': '600009', '股票名称': '上海机场'}, page_content='主营业务: 从事航空运输地面服务及其他相关业务。\\n产品类型: 航空及相关服务\\n产品名称: 航空及相关服务\\n经营范围: 国内外航空运输企业及旅客提供地面保障服务，经营出租机场内航空营业场所、商业场所和办公场所，国内贸易（除专项规定）；广告经营，经营其它与航空运输有关的业务；货运代理；代理报验；代理报关；长途客运站（限分支机构经营）；综合开发，经营国家政策许可的其它投资项目，停车场管理及停车延伸服务。（依法须经批准的项目，经相关部门批准后方可开展经营活动）。')]]"
      ]
     },
     "execution_count": 14,
     "metadata": {},
     "output_type": "execute_result"
    }
   ],
   "source": [
    "retriever.batch(\n",
    "    [\n",
    "        \"股票上海机场的主营业务是什么？\",\n",
    "        \"股票600009的主营业务是什么？\",\n",
    "    ],\n",
    ")"
   ]
  },
  {
   "cell_type": "code",
   "execution_count": 5,
   "metadata": {},
   "outputs": [
    {
     "data": {
      "text/html": [
       "<table border=\"1\" class=\"dataframe\">\n",
       "  <thead>\n",
       "    <tr style=\"text-align: right;\">\n",
       "      <th></th>\n",
       "      <th>时间</th>\n",
       "      <th>内容</th>\n",
       "    </tr>\n",
       "  </thead>\n",
       "  <tbody>\n",
       "    <tr>\n",
       "      <th>0</th>\n",
       "      <td>2025-01-07 22:47:38</td>\n",
       "      <td>市场消息：特朗普请求纽约州上诉法院在宣判前驳回封口费案。</td>\n",
       "    </tr>\n",
       "    <tr>\n",
       "      <th>1</th>\n",
       "      <td>2025-01-07 22:46:44</td>\n",
       "      <td>美股医药股上涨，modena涨7.5%，NOVAVAX涨12.4%，辉瑞涨1.6%，美国上市的CUREVAC股价涨10.6%。</td>\n",
       "    </tr>\n",
       "    <tr>\n",
       "      <th>2</th>\n",
       "      <td>2025-01-07 22:45:35</td>\n",
       "      <td>【顺威股份：没有生产储能电站、数据中心领域等相关产品】 顺威股份(002676)1月7日在互动平台表示，公司目前没有生产关于储能电站、数据中心领域等相关产品。</td>\n",
       "    </tr>\n",
       "  </tbody>\n",
       "</table>"
      ],
      "text/plain": [
       "<IPython.core.display.HTML object>"
      ]
     },
     "metadata": {},
     "output_type": "display_data"
    }
   ],
   "source": [
    "import akshare as ak\n",
    "\n",
    "from IPython.display import display, HTML\n",
    "\n",
    "df = ak.stock_info_global_sina()\n",
    "display(HTML(df.head(3).to_html()))"
   ]
  }
 ],
 "metadata": {
  "kernelspec": {
   "display_name": "ai-stock-advisor",
   "language": "python",
   "name": "python3"
  },
  "language_info": {
   "codemirror_mode": {
    "name": "ipython",
    "version": 3
   },
   "file_extension": ".py",
   "mimetype": "text/x-python",
   "name": "python",
   "nbconvert_exporter": "python",
   "pygments_lexer": "ipython3",
   "version": "3.11.11"
  }
 },
 "nbformat": 4,
 "nbformat_minor": 2
}
